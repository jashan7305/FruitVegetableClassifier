{
 "cells": [
  {
   "cell_type": "code",
   "execution_count": 4,
   "id": "f6bf334f",
   "metadata": {},
   "outputs": [],
   "source": [
    "from pathlib import Path\n",
    "import os\n",
    "\n",
    "from torchvision import transforms, datasets\n",
    "from torch.utils.data import DataLoader"
   ]
  },
  {
   "cell_type": "code",
   "execution_count": 2,
   "id": "66d4dffe",
   "metadata": {},
   "outputs": [
    {
     "data": {
      "text/plain": [
       "['BestResNet50Model.pth',\n",
       " 'FruitClassification.h5',\n",
       " 'resnet_10.pth',\n",
       " 'resnet_20.pth',\n",
       " 'resnet_30.pth',\n",
       " 'resnet_40.pth',\n",
       " 'resnet_50.pth',\n",
       " 'resnet_60.pth',\n",
       " 'resnet_70.pth']"
      ]
     },
     "execution_count": 2,
     "metadata": {},
     "output_type": "execute_result"
    }
   ],
   "source": [
    "project_dir = Path.cwd().parent\n",
    "model_dir = os.path.join(project_dir, \"models\")\n",
    "os.listdir(model_dir)"
   ]
  },
  {
   "cell_type": "code",
   "execution_count": null,
   "id": "5768423c",
   "metadata": {},
   "outputs": [],
   "source": []
  }
 ],
 "metadata": {
  "kernelspec": {
   "display_name": "venv",
   "language": "python",
   "name": "python3"
  },
  "language_info": {
   "codemirror_mode": {
    "name": "ipython",
    "version": 3
   },
   "file_extension": ".py",
   "mimetype": "text/x-python",
   "name": "python",
   "nbconvert_exporter": "python",
   "pygments_lexer": "ipython3",
   "version": "3.12.7"
  }
 },
 "nbformat": 4,
 "nbformat_minor": 5
}
