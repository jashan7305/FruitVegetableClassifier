{
 "cells": [
  {
   "cell_type": "code",
   "execution_count": 15,
   "id": "f6bf334f",
   "metadata": {},
   "outputs": [],
   "source": [
    "from pathlib import Path\n",
    "import os\n",
    "import json\n",
    "import matplotlib.pyplot as plt\n",
    "\n",
    "import torch\n",
    "import torch.nn as nn\n",
    "from torch.utils.data import DataLoader\n",
    "from torchvision import transforms, datasets\n",
    "from torchvision.models import resnet50\n",
    "from tqdm import tqdm"
   ]
  },
  {
   "cell_type": "code",
   "execution_count": 11,
   "id": "66d4dffe",
   "metadata": {},
   "outputs": [],
   "source": [
    "project_dir = Path.cwd().parent\n",
    "model_dir = os.path.join(project_dir, \"models\")\n",
    "data_dir = os.path.join(project_dir, \"data\")\n",
    "\n",
    "with open(os.path.join(data_dir, \"index_to_label.json\"), \"r\") as itl:\n",
    "    index_to_label = json.load(itl)\n",
    "\n",
    "with open(os.path.join(data_dir, \"label_to_index.json\"), \"r\") as lti:\n",
    "    label_to_index = json.load(lti)\n",
    "\n",
    "device = torch.device(\"cpu\")"
   ]
  },
  {
   "cell_type": "code",
   "execution_count": 7,
   "id": "331e88b9",
   "metadata": {},
   "outputs": [],
   "source": [
    "test_transform = transforms.Compose([\n",
    "    transforms.Resize((224, 224)),\n",
    "    transforms.ToTensor(),\n",
    "    transforms.Normalize(mean=[0.485, 0.456, 0.406], std=[0.229, 0.224, 0.225])\n",
    "])"
   ]
  },
  {
   "cell_type": "code",
   "execution_count": 12,
   "id": "74855588",
   "metadata": {},
   "outputs": [],
   "source": [
    "test_dataset = datasets.ImageFolder(os.path.join(data_dir, \"test\"), transform=test_transform)\n",
    "test_loader = DataLoader(test_dataset, batch_size=32, shuffle=True)"
   ]
  },
  {
   "cell_type": "code",
   "execution_count": 3,
   "id": "5768423c",
   "metadata": {},
   "outputs": [
    {
     "data": {
      "text/plain": [
       "['BestResNet50Model.pth',\n",
       " 'resnet_10.pth',\n",
       " 'resnet_20.pth',\n",
       " 'resnet_30.pth',\n",
       " 'resnet_40.pth',\n",
       " 'resnet_50.pth',\n",
       " 'resnet_60.pth',\n",
       " 'resnet_70.pth']"
      ]
     },
     "execution_count": 3,
     "metadata": {},
     "output_type": "execute_result"
    }
   ],
   "source": [
    "model_list = [model for model in os.listdir(model_dir) if model.endswith(\".pth\")]\n",
    "model_list"
   ]
  },
  {
   "cell_type": "code",
   "execution_count": 16,
   "id": "85232fd0",
   "metadata": {},
   "outputs": [],
   "source": [
    "def get_model():\n",
    "    model = resnet50(pretrained=False)\n",
    "    num_ftrs = model.fc.in_features\n",
    "    model.fc = nn.Sequential(\n",
    "        nn.Linear(num_ftrs, 256),\n",
    "        nn.ReLU(),\n",
    "        nn.Dropout(0.5),\n",
    "        nn.Linear(256, 128),\n",
    "        nn.ReLU(),\n",
    "        nn.Dropout(0.3),\n",
    "        nn.Linear(128, 36)\n",
    "    )\n",
    "    return model\n",
    "\n",
    "def evaluate_model(model, loader, device):\n",
    "    model.eval()\n",
    "    correct, total = 0, 0\n",
    "    with torch.no_grad():\n",
    "        for imgs, labels in tqdm(loader, desc=\"Evaluating\"):\n",
    "            imgs, labels = imgs.to(device), labels.to(device)\n",
    "            outputs = model(imgs)\n",
    "            preds = torch.argmax(outputs, dim=1)\n",
    "            correct += (preds == labels).sum().item()\n",
    "            total += labels.size(0)\n",
    "    return correct / total"
   ]
  },
  {
   "cell_type": "code",
   "execution_count": 17,
   "id": "ccb65a39",
   "metadata": {},
   "outputs": [
    {
     "name": "stderr",
     "output_type": "stream",
     "text": [
      "c:\\Users\\Jashan Shah\\GitHub\\FruitVegetableClassifier\\venv\\Lib\\site-packages\\torchvision\\models\\_utils.py:208: UserWarning: The parameter 'pretrained' is deprecated since 0.13 and may be removed in the future, please use 'weights' instead.\n",
      "  warnings.warn(\n",
      "c:\\Users\\Jashan Shah\\GitHub\\FruitVegetableClassifier\\venv\\Lib\\site-packages\\torchvision\\models\\_utils.py:223: UserWarning: Arguments other than a weight enum or `None` for 'weights' are deprecated since 0.13 and may be removed in the future. The current behavior is equivalent to passing `weights=None`.\n",
      "  warnings.warn(msg)\n",
      "Evaluating: 100%|██████████| 12/12 [01:20<00:00,  6.68s/it]\n",
      "Evaluating: 100%|██████████| 12/12 [01:15<00:00,  6.32s/it]\n",
      "Evaluating: 100%|██████████| 12/12 [01:15<00:00,  6.32s/it]\n",
      "Evaluating: 100%|██████████| 12/12 [01:18<00:00,  6.56s/it]\n",
      "Evaluating: 100%|██████████| 12/12 [01:18<00:00,  6.51s/it]\n",
      "Evaluating: 100%|██████████| 12/12 [01:22<00:00,  6.90s/it]\n",
      "Evaluating: 100%|██████████| 12/12 [01:30<00:00,  7.50s/it]\n",
      "Evaluating: 100%|██████████| 12/12 [01:22<00:00,  6.91s/it]\n"
     ]
    }
   ],
   "source": [
    "accuracies = []\n",
    "\n",
    "for model_name in model_list:\n",
    "    path = os.path.join(model_dir, model_name)\n",
    "    model = get_model().to(device)\n",
    "    model.load_state_dict(torch.load(path, map_location=device))\n",
    "    accuracy = evaluate_model(model, test_loader, device)\n",
    "    accuracies.append(accuracy)\n"
   ]
  },
  {
   "cell_type": "code",
   "execution_count": 23,
   "id": "e4152b92",
   "metadata": {},
   "outputs": [
    {
     "data": {
      "image/png": "[encoded data removed]",
      "text/plain": [
       "<Figure size 1400x500 with 1 Axes>"
      ]
     },
     "metadata": {},
     "output_type": "display_data"
    },
    {
     "name": "stdout",
     "output_type": "stream",
     "text": [
      "[0.9498607242339833, 0.49303621169916434, 0.766016713091922, 0.8440111420612814, 0.8969359331476323, 0.9164345403899722, 0.924791086350975, 0.9498607242339833]\n"
     ]
    }
   ],
   "source": [
    "plt.figure(figsize=(14, 5))\n",
    "plt.bar(model_list, accuracies)\n",
    "plt.xlabel(\"models\")\n",
    "plt.ylabel(\"accuracy\")\n",
    "plt.tight_layout()\n",
    "plt.show()\n",
    "print(accuracies)"
   ]
  },
  {
   "cell_type": "code",
   "execution_count": null,
   "id": "256999ac",
   "metadata": {},
   "outputs": [],
   "source": []
  }
 ],
 "metadata": {
  "kernelspec": {
   "display_name": "venv",
   "language": "python",
   "name": "python3"
  },
  "language_info": {
   "codemirror_mode": {
    "name": "ipython",
    "version": 3
   },
   "file_extension": ".py",
   "mimetype": "text/x-python",
   "name": "python",
   "nbconvert_exporter": "python",
   "pygments_lexer": "ipython3",
   "version": "3.12.7"
  }
 },
 "nbformat": 4,
 "nbformat_minor": 5
}
