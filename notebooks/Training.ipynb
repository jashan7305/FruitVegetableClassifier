{
 "cells": [
  {
   "cell_type": "code",
   "execution_count": 2,
   "metadata": {
    "executionInfo": {
     "elapsed": 11573,
     "status": "ok",
     "timestamp": 1749124686595,
     "user": {
      "displayName": "Jashan Shah",
      "userId": "11677017914643750514"
     },
     "user_tz": -330
    },
    "id": "viAFooLvx1ks"
   },
   "outputs": [],
   "source": [
    "# from google.colab import drive\n",
    "from os.path import join\n",
    "import os\n",
    "import json\n",
    "import numpy as np\n",
    "from PIL import Image\n",
    "\n",
    "from torchvision import datasets, transforms\n",
    "from torchvision.models import resnet50\n",
    "from torch.utils.data import DataLoader\n",
    "from torch import nn, optim, cuda\n",
    "from torch.backends import cudnn\n",
    "import torch"
   ]
  },
  {
   "cell_type": "code",
   "execution_count": null,
   "metadata": {
    "colab": {
     "base_uri": "https://localhost:8080/"
    },
    "executionInfo": {
     "elapsed": 25555,
     "status": "ok",
     "timestamp": 1749108506411,
     "user": {
      "displayName": "Jashan Shah",
      "userId": "11677017914643750514"
     },
     "user_tz": -330
    },
    "id": "PG_h83kRzSd8",
    "outputId": "024733ea-2df6-4e3f-88b3-21dc967365ca"
   },
   "outputs": [],
   "source": [
    "# drive.mount(\"/content/drive\")"
   ]
  },
  {
   "cell_type": "code",
   "execution_count": 27,
   "metadata": {
    "colab": {
     "base_uri": "https://localhost:8080/"
    },
    "executionInfo": {
     "elapsed": 9,
     "status": "ok",
     "timestamp": 1749111915361,
     "user": {
      "displayName": "Jashan Shah",
      "userId": "11677017914643750514"
     },
     "user_tz": -330
    },
    "id": "DIr3eL9mzpO2",
    "outputId": "dbbf9f2f-4f3f-4c7f-a805-43e490bac60d"
   },
   "outputs": [
    {
     "name": "stdout",
     "output_type": "stream",
     "text": [
      "Using device cuda\n"
     ]
    }
   ],
   "source": [
    "data_dir = \"/content/drive/Othercomputers/My Laptop\"\n",
    "notebook_dir = \"/content/drive/MyDrive/FruitVegClassification\"\n",
    "\n",
    "with open(join(notebook_dir,\"index_to_label.json\")) as itl:\n",
    "  index_to_label = json.load(itl)\n",
    "\n",
    "with open(join(notebook_dir,\"label_to_index.json\")) as lti:\n",
    "  label_to_index = json.load(lti)\n",
    "\n",
    "device = \"cuda\" if cuda.is_available() else \"cpu\"\n",
    "print(\"Using device\", device)\n",
    "\n",
    "cudnn.benchmark = True"
   ]
  },
  {
   "cell_type": "code",
   "execution_count": 28,
   "metadata": {
    "executionInfo": {
     "elapsed": 25,
     "status": "ok",
     "timestamp": 1749111926896,
     "user": {
      "displayName": "Jashan Shah",
      "userId": "11677017914643750514"
     },
     "user_tz": -330
    },
    "id": "BG1DqBSz0ndE"
   },
   "outputs": [],
   "source": [
    "mean = [0.485, 0.456, 0.406]\n",
    "std = [0.229, 0.224, 0.225]\n",
    "\n",
    "train_transforms = transforms.Compose([\n",
    "    transforms.Resize((224, 224)),\n",
    "    transforms.RandomHorizontalFlip(),\n",
    "    transforms.RandomRotation(30),\n",
    "    transforms.RandomResizedCrop(224, scale=(0.85, 1.15)),\n",
    "    transforms.RandomAffine(0, shear=15, translate=(0.2, 0.2)),\n",
    "    transforms.ToTensor(),\n",
    "    transforms.Normalize(mean=mean, std=std)\n",
    "])\n",
    "\n",
    "val_test_transforms = transforms.Compose([\n",
    "    transforms.Resize((224, 224)),\n",
    "    transforms.ToTensor(),\n",
    "    transforms.Normalize(mean=mean, std=std)\n",
    "])\n",
    "\n",
    "def pil_image_loader(path):\n",
    "  with open(path, \"rb\") as f:\n",
    "    img = Image.open(f)\n",
    "    return img.convert(\"RGB\")"
   ]
  },
  {
   "cell_type": "code",
   "execution_count": 30,
   "metadata": {
    "executionInfo": {
     "elapsed": 98,
     "status": "ok",
     "timestamp": 1749111968808,
     "user": {
      "displayName": "Jashan Shah",
      "userId": "11677017914643750514"
     },
     "user_tz": -330
    },
    "id": "au2NEGsX5-6d"
   },
   "outputs": [],
   "source": [
    "train_dataset = datasets.ImageFolder(join(data_dir, \"train\"), transform=train_transforms, loader=pil_image_loader)\n",
    "test_dataset = datasets.ImageFolder(join(data_dir, \"test\"), transform=val_test_transforms, loader=pil_image_loader)\n",
    "val_dataset = datasets.ImageFolder(join(data_dir, \"validation\"), transform=val_test_transforms, loader=pil_image_loader)\n",
    "\n",
    "train_loader = DataLoader(train_dataset, batch_size=32, shuffle=True, num_workers=2, pin_memory=True)\n",
    "test_loader = DataLoader(test_dataset, batch_size=32, shuffle=False, num_workers=2, pin_memory=True)\n",
    "val_loader = DataLoader(val_dataset, batch_size=32, shuffle=False, num_workers=2, pin_memory=True)"
   ]
  },
  {
   "cell_type": "code",
   "execution_count": null,
   "metadata": {
    "colab": {
     "base_uri": "https://localhost:8080/"
    },
    "executionInfo": {
     "elapsed": 938,
     "status": "ok",
     "timestamp": 1749112003354,
     "user": {
      "displayName": "Jashan Shah",
      "userId": "11677017914643750514"
     },
     "user_tz": -330
    },
    "id": "eizBaXJp745B",
    "outputId": "bd493c52-7f16-499a-96f8-ebc15595e8b6"
   },
   "outputs": [
    {
     "name": "stderr",
     "output_type": "stream",
     "text": [
      "/usr/local/lib/python3.11/dist-packages/torchvision/models/_utils.py:208: UserWarning: The parameter 'pretrained' is deprecated since 0.13 and may be removed in the future, please use 'weights' instead.\n",
      "  warnings.warn(\n",
      "/usr/local/lib/python3.11/dist-packages/torchvision/models/_utils.py:223: UserWarning: Arguments other than a weight enum or `None` for 'weights' are deprecated since 0.13 and may be removed in the future. The current behavior is equivalent to passing `weights=ResNet50_Weights.IMAGENET1K_V1`. You can also use `weights=ResNet50_Weights.DEFAULT` to get the most up-to-date weights.\n",
      "  warnings.warn(msg)\n"
     ]
    }
   ],
   "source": [
    "base_model = resnet50(pretrained=True)"
   ]
  },
  {
   "cell_type": "code",
   "execution_count": 33,
   "metadata": {
    "executionInfo": {
     "elapsed": 4,
     "status": "ok",
     "timestamp": 1749112007349,
     "user": {
      "displayName": "Jashan Shah",
      "userId": "11677017914643750514"
     },
     "user_tz": -330
    },
    "id": "FHwLCOUS-uHq"
   },
   "outputs": [],
   "source": [
    "num_ftrs = base_model.fc.in_features"
   ]
  },
  {
   "cell_type": "code",
   "execution_count": 34,
   "metadata": {
    "executionInfo": {
     "elapsed": 2,
     "status": "ok",
     "timestamp": 1749112009279,
     "user": {
      "displayName": "Jashan Shah",
      "userId": "11677017914643750514"
     },
     "user_tz": -330
    },
    "id": "VKQfIHRY7-an"
   },
   "outputs": [],
   "source": [
    "for param in base_model.parameters():\n",
    "    param.requires_grad = False\n",
    "\n",
    "unfreeze = False\n",
    "\n",
    "for name, param in base_model.named_parameters():\n",
    "    if \"layer4\" in name:\n",
    "        unfreeze = True\n",
    "    if unfreeze:\n",
    "        param.requires_grad = True"
   ]
  },
  {
   "cell_type": "code",
   "execution_count": 35,
   "metadata": {
    "executionInfo": {
     "elapsed": 7,
     "status": "ok",
     "timestamp": 1749112015460,
     "user": {
      "displayName": "Jashan Shah",
      "userId": "11677017914643750514"
     },
     "user_tz": -330
    },
    "id": "TKAxI4xn-RLJ"
   },
   "outputs": [],
   "source": [
    "base_model.fc = nn.Sequential(\n",
    "    nn.Linear(num_ftrs, 256),\n",
    "    nn.ReLU(),\n",
    "    nn.Dropout(0.5),\n",
    "    nn.Linear(256, 128),\n",
    "    nn.ReLU(),\n",
    "    nn.Dropout(0.3),\n",
    "    nn.Linear(128, 36)\n",
    ")"
   ]
  },
  {
   "cell_type": "code",
   "execution_count": 36,
   "metadata": {
    "executionInfo": {
     "elapsed": 3,
     "status": "ok",
     "timestamp": 1749112018147,
     "user": {
      "displayName": "Jashan Shah",
      "userId": "11677017914643750514"
     },
     "user_tz": -330
    },
    "id": "isRgHwlP-zH-"
   },
   "outputs": [],
   "source": [
    "criterion = nn.CrossEntropyLoss()\n",
    "optimizer = optim.Adam(filter(lambda p: p.requires_grad, base_model.parameters()), lr=0.000001)\n",
    "scheduler = optim.lr_scheduler.ReduceLROnPlateau(optimizer, mode=\"min\", factor=0.5, patience=3, min_lr=0.000001)\n",
    "\n",
    "best_val_loss = np.inf\n",
    "patience = 10\n",
    "counter = 0\n",
    "num_epochs = 100"
   ]
  },
  {
   "cell_type": "code",
   "execution_count": null,
   "metadata": {
    "colab": {
     "base_uri": "https://localhost:8080/"
    },
    "id": "I5dyw8nC_BKJ",
    "outputId": "7dd9adf9-8c7b-4c8f-c563-607b1ea872f7"
   },
   "outputs": [],
   "source": [
    "base_model.to(device)\n",
    "\n",
    "for epoch in range(num_epochs):\n",
    "    base_model.train()\n",
    "    train_losses = []\n",
    "    for img, label in train_loader:\n",
    "        img, label = img.to(device), label.to(device)\n",
    "        optimizer.zero_grad()\n",
    "        output = base_model(img)\n",
    "        loss = criterion(output, label)\n",
    "        loss.backward()\n",
    "        optimizer.step()\n",
    "        train_losses.append(loss.item())\n",
    "\n",
    "    base_model.eval()\n",
    "    val_losses = []\n",
    "    preds, targets = [], []\n",
    "    with torch.no_grad():\n",
    "        for img, label in val_loader:\n",
    "            img, label = img.to(device), label.to(device)\n",
    "            output = base_model(img)\n",
    "            loss = criterion(output, label)\n",
    "            val_losses.append(loss.item())\n",
    "            pred_labels = torch.argmax(output, dim=1)\n",
    "            preds.extend(pred_labels.cpu().numpy())\n",
    "            targets.extend(label.cpu().numpy())\n",
    "\n",
    "    val_loss = np.mean(val_losses)\n",
    "    print(f\"Epoch {epoch+1}: Train Loss = {np.mean(train_losses):.4f}, Val Loss = {val_loss:.4f}\")\n",
    "    scheduler.step(val_loss)\n",
    "\n",
    "    if val_loss < best_val_loss:\n",
    "        best_val_loss = val_loss\n",
    "        torch.save(base_model.state_dict(), \"BestResNet50Model.pth\")\n",
    "        counter = 0\n",
    "    else:\n",
    "        counter += 1\n",
    "        if counter >= patience:\n",
    "            print(\"Early stopping.\")\n",
    "            break"
   ]
  },
  {
   "cell_type": "code",
   "execution_count": null,
   "metadata": {
    "colab": {
     "base_uri": "https://localhost:8080/",
     "height": 141
    },
    "executionInfo": {
     "elapsed": 31,
     "status": "error",
     "timestamp": 1749124695214,
     "user": {
      "displayName": "Jashan Shah",
      "userId": "11677017914643750514"
     },
     "user_tz": -330
    },
    "id": "bOWbIOf_83_X",
    "outputId": "a0b1f6d3-097b-42fb-ee6c-a6b62d7d6424"
   },
   "outputs": [],
   "source": [
    "torch.save(base_model.state_dict(), \"BestResNet50Model.pth\")"
   ]
  },
  {
   "cell_type": "code",
   "execution_count": null,
   "metadata": {
    "id": "wfI3es5E8_bS"
   },
   "outputs": [],
   "source": []
  }
 ],
 "metadata": {
  "accelerator": "GPU",
  "colab": {
   "authorship_tag": "ABX9TyMiV/avgbWRYvTS6yEq1Gdn",
   "gpuType": "T4",
   "provenance": []
  },
  "kernelspec": {
   "display_name": "venv",
   "language": "python",
   "name": "python3"
  },
  "language_info": {
   "codemirror_mode": {
    "name": "ipython",
    "version": 3
   },
   "file_extension": ".py",
   "mimetype": "text/x-python",
   "name": "python",
   "nbconvert_exporter": "python",
   "pygments_lexer": "ipython3",
   "version": "3.12.7"
  }
 },
 "nbformat": 4,
 "nbformat_minor": 0
}
