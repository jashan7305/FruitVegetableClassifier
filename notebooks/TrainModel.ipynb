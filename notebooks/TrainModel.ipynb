{
 "cells": [
  {
   "cell_type": "code",
   "execution_count": 35,
   "id": "edde8411",
   "metadata": {},
   "outputs": [],
   "source": [
    "import pandas as pd\n",
    "\n",
    "from pathlib import Path\n",
    "import os\n",
    "import time\n",
    "from PIL import Image\n",
    "\n",
    "import torch\n",
    "from torchvision import transforms"
   ]
  },
  {
   "cell_type": "code",
   "execution_count": null,
   "id": "fcac53ea",
   "metadata": {},
   "outputs": [],
   "source": [
    "data_dir = os.path.join(Path.cwd().parent, \"data\")\n",
    "\n",
    "IMAGE_SIZE = 224\n",
    "mean = [0.485, 0.456, 0.406]\n",
    "std = [0.229, 0.224, 0.225]"
   ]
  },
  {
   "cell_type": "code",
   "execution_count": null,
   "id": "25873928",
   "metadata": {},
   "outputs": [],
   "source": [
    "train_transforms = transforms.Compose([\n",
    "    transforms.Resize((224, 224)),\n",
    "    transforms.RandomHorizontalFlip(),\n",
    "    transforms.RandomRotation(30),\n",
    "    transforms.RandomResizedCrop(224, scale=(0.85, 1.15)),\n",
    "    transforms.RandomAffine(0, shear=15, translate=(0.2, 0.2)),\n",
    "    transforms.ToTensor(),\n",
    "    transforms.Normalize(mean=mean, std=std)\n",
    "])\n",
    "\n",
    "val_test_transforms = transforms.Compose([\n",
    "    transforms.Resize((224, 224)),\n",
    "    transforms.ToTensor(),\n",
    "    transforms.Normalize(mean=mean, std=std)\n",
    "])"
   ]
  },
  {
   "cell_type": "code",
   "execution_count": null,
   "id": "2c163bb0",
   "metadata": {},
   "outputs": [],
   "source": [
    "def load_images(df, transform):\n",
    "    images = []\n",
    "    labels = []\n",
    "\n",
    "    for _, row in df.iterrows():\n",
    "        img = Image.open(row[\"image\"]).convert(\"RGB\")\n",
    "        img = transform(img)\n",
    "        label = row[\"label_idx\"]\n",
    "        images.append(img)\n",
    "        labels.append(label)\n",
    "\n",
    "    return torch.stack(images), torch.tensor(labels)"
   ]
  },
  {
   "cell_type": "code",
   "execution_count": null,
   "id": "b7405469",
   "metadata": {},
   "outputs": [],
   "source": [
    "df_train = pd.read_csv(data_dir + \"\\\\train_clean_csv.csv\")\n",
    "df_test = pd.read_csv(data_dir + \"\\\\test_clean_csv.csv\")\n",
    "df_val = pd.read_csv(data_dir + \"\\\\val_clean_csv.csv\")"
   ]
  },
  {
   "cell_type": "code",
   "execution_count": null,
   "id": "021b9c45",
   "metadata": {},
   "outputs": [],
   "source": [
    "train_imgs, train_labels = load_images(df_train, train_transforms)\n",
    "test_imgs, test_labels = load_images(df_test, val_test_transforms)\n",
    "val_imgs, val_labels = load_images(df_val, val_test_transforms)"
   ]
  },
  {
   "cell_type": "code",
   "execution_count": null,
   "id": "fce35a82",
   "metadata": {},
   "outputs": [
    {
     "name": "stdout",
     "output_type": "stream",
     "text": [
      "One image time: 0.11498022079467773\n"
     ]
    }
   ],
   "source": []
  },
  {
   "cell_type": "code",
   "execution_count": null,
   "id": "dcaa1876",
   "metadata": {},
   "outputs": [
    {
     "data": {
      "text/plain": [
       "413.92879486083984"
      ]
     },
     "execution_count": 1,
     "metadata": {},
     "output_type": "execute_result"
    }
   ],
   "source": []
  },
  {
   "cell_type": "code",
   "execution_count": null,
   "id": "34f22ddf",
   "metadata": {},
   "outputs": [],
   "source": []
  }
 ],
 "metadata": {
  "kernelspec": {
   "display_name": "venv",
   "language": "python",
   "name": "python3"
  },
  "language_info": {
   "codemirror_mode": {
    "name": "ipython",
    "version": 3
   },
   "file_extension": ".py",
   "mimetype": "text/x-python",
   "name": "python",
   "nbconvert_exporter": "python",
   "pygments_lexer": "ipython3",
   "version": "3.12.7"
  }
 },
 "nbformat": 4,
 "nbformat_minor": 5
}
