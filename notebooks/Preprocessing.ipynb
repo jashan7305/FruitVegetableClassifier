{
 "cells": [
  {
   "cell_type": "code",
   "execution_count": 25,
   "id": "bfde49ae",
   "metadata": {},
   "outputs": [],
   "source": [
    "import pandas as pd\n",
    "from pathlib import Path\n",
    "import os"
   ]
  },
  {
   "cell_type": "code",
   "execution_count": 26,
   "id": "e0c81971",
   "metadata": {},
   "outputs": [],
   "source": [
    "data_dir = os.path.join(Path.cwd().parent, \"data\")"
   ]
  },
  {
   "cell_type": "code",
   "execution_count": 27,
   "id": "134d709c",
   "metadata": {},
   "outputs": [],
   "source": [
    "df_train = pd.read_csv(data_dir + \"\\\\train_csv.csv\", index_col=0)\n",
    "df_test = pd.read_csv(data_dir + \"\\\\test_csv.csv\", index_col=0)\n",
    "df_val = pd.read_csv(data_dir + \"\\\\val_csv.csv\", index_col=0)"
   ]
  },
  {
   "cell_type": "code",
   "execution_count": 28,
   "id": "09a9ed2c",
   "metadata": {},
   "outputs": [
    {
     "data": {
      "text/plain": [
       "{'apple': 0,\n",
       " 'banana': 1,\n",
       " 'beetroot': 2,\n",
       " 'bell pepper': 3,\n",
       " 'cabbage': 4,\n",
       " 'capsicum': 5,\n",
       " 'carrot': 6,\n",
       " 'cauliflower': 7,\n",
       " 'chilli pepper': 8,\n",
       " 'corn': 9,\n",
       " 'cucumber': 10,\n",
       " 'eggplant': 11,\n",
       " 'garlic': 12,\n",
       " 'ginger': 13,\n",
       " 'grapes': 14,\n",
       " 'jalepeno': 15,\n",
       " 'kiwi': 16,\n",
       " 'lemon': 17,\n",
       " 'lettuce': 18,\n",
       " 'mango': 19,\n",
       " 'onion': 20,\n",
       " 'orange': 21,\n",
       " 'paprika': 22,\n",
       " 'pear': 23,\n",
       " 'peas': 24,\n",
       " 'pineapple': 25,\n",
       " 'pomegranate': 26,\n",
       " 'potato': 27,\n",
       " 'raddish': 28,\n",
       " 'soy beans': 29,\n",
       " 'spinach': 30,\n",
       " 'sweetcorn': 31,\n",
       " 'sweetpotato': 32,\n",
       " 'tomato': 33,\n",
       " 'turnip': 34,\n",
       " 'watermelon': 35}"
      ]
     },
     "execution_count": 28,
     "metadata": {},
     "output_type": "execute_result"
    }
   ],
   "source": [
    "labels = df_train[\"label\"].unique()\n",
    "label_to_index = {label: i for i, label in enumerate(labels)}\n",
    "label_to_index"
   ]
  },
  {
   "cell_type": "code",
   "execution_count": 29,
   "id": "79cf94fd",
   "metadata": {},
   "outputs": [],
   "source": [
    "df_train[\"label_idx\"] = df_train[\"label\"].map(label_to_index)\n",
    "df_test[\"label_idx\"] = df_test[\"label\"].map(label_to_index)\n",
    "df_val[\"label_idx\"] = df_val[\"label\"].map(label_to_index)"
   ]
  },
  {
   "cell_type": "code",
   "execution_count": 30,
   "id": "6b41a9fc",
   "metadata": {},
   "outputs": [],
   "source": [
    "pd.Series(label_to_index).to_json(data_dir + \"\\\\label_to_index.json\")"
   ]
  },
  {
   "cell_type": "code",
   "execution_count": 31,
   "id": "dbf8c75f",
   "metadata": {},
   "outputs": [],
   "source": [
    "df_train.to_csv(data_dir + \"\\\\train_clean_csv.csv\", index=False)\n",
    "df_test.to_csv(data_dir + \"\\\\test_clean_csv.csv\", index=False)\n",
    "df_val.to_csv(data_dir + \"\\\\val_clean_csv.csv\", index=False)"
   ]
  },
  {
   "cell_type": "code",
   "execution_count": null,
   "id": "0fd161c1",
   "metadata": {},
   "outputs": [],
   "source": []
  }
 ],
 "metadata": {
  "kernelspec": {
   "display_name": "venv",
   "language": "python",
   "name": "python3"
  },
  "language_info": {
   "codemirror_mode": {
    "name": "ipython",
    "version": 3
   },
   "file_extension": ".py",
   "mimetype": "text/x-python",
   "name": "python",
   "nbconvert_exporter": "python",
   "pygments_lexer": "ipython3",
   "version": "3.12.7"
  }
 },
 "nbformat": 4,
 "nbformat_minor": 5
}
